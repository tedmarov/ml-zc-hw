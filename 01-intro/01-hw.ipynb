{
 "cells": [
  {
   "cell_type": "code",
   "execution_count": 56,
   "id": "f1103d98-08a3-4214-9247-c12877103f08",
   "metadata": {},
   "outputs": [],
   "source": [
    "import pandas as pd\n",
    "import numpy as np"
   ]
  },
  {
   "cell_type": "code",
   "execution_count": 57,
   "id": "391b1d75",
   "metadata": {},
   "outputs": [
    {
     "data": {
      "text/plain": [
       "'2.1.4'"
      ]
     },
     "execution_count": 57,
     "metadata": {},
     "output_type": "execute_result"
    }
   ],
   "source": [
    "pd.__version__"
   ]
  },
  {
   "cell_type": "code",
   "execution_count": 58,
   "id": "717e046a-664f-45dc-b49d-ce82a0b6c62c",
   "metadata": {},
   "outputs": [],
   "source": [
    "df = pd.read_csv('https://raw.githubusercontent.com/alexeygrigorev/datasets/master/car_fuel_efficiency.csv')"
   ]
  },
  {
   "cell_type": "code",
   "execution_count": 59,
   "id": "f8f6e740-09cc-42f0-93f5-27a3f2ac2bd7",
   "metadata": {},
   "outputs": [
    {
     "data": {
      "text/plain": [
       "9704"
      ]
     },
     "execution_count": 59,
     "metadata": {},
     "output_type": "execute_result"
    }
   ],
   "source": [
    "len(df)"
   ]
  },
  {
   "cell_type": "code",
   "execution_count": 60,
   "id": "d5fa8eb6",
   "metadata": {},
   "outputs": [
    {
     "data": {
      "text/plain": [
       "2"
      ]
     },
     "execution_count": 60,
     "metadata": {},
     "output_type": "execute_result"
    }
   ],
   "source": [
    "df['fuel_type'].nunique()"
   ]
  },
  {
   "cell_type": "code",
   "execution_count": 119,
   "id": "35c01278-91f3-4e52-b47f-6d2c20bc70a5",
   "metadata": {},
   "outputs": [
    {
     "data": {
      "text/plain": [
       "Index(['num_cylinders', 'acceleration', 'num_doors'], dtype='object')"
      ]
     },
     "execution_count": 119,
     "metadata": {},
     "output_type": "execute_result"
    }
   ],
   "source": [
    "df.columns[df.isnull().any()]"
   ]
  },
  {
   "cell_type": "code",
   "execution_count": 61,
   "id": "4fa15609",
   "metadata": {},
   "outputs": [
    {
     "data": {
      "text/plain": [
       "23.759122836520497"
      ]
     },
     "execution_count": 61,
     "metadata": {},
     "output_type": "execute_result"
    }
   ],
   "source": [
    "df[df['origin'] == 'Asia']['fuel_efficiency_mpg'].max()"
   ]
  },
  {
   "cell_type": "code",
   "execution_count": 62,
   "id": "9d486dd1",
   "metadata": {},
   "outputs": [
    {
     "data": {
      "text/plain": [
       "149.0"
      ]
     },
     "execution_count": 62,
     "metadata": {},
     "output_type": "execute_result"
    }
   ],
   "source": [
    "df['horsepower'].median()"
   ]
  },
  {
   "cell_type": "code",
   "execution_count": 63,
   "id": "5fbeb079",
   "metadata": {},
   "outputs": [
    {
     "data": {
      "text/plain": [
       "142"
      ]
     },
     "execution_count": 63,
     "metadata": {},
     "output_type": "execute_result"
    }
   ],
   "source": [
    "df['horsepower'].value_counts().max()"
   ]
  },
  {
   "cell_type": "code",
   "execution_count": 64,
   "id": "6e070eee",
   "metadata": {},
   "outputs": [],
   "source": [
    "df[['horsepower']] = df[['horsepower']].fillna(value=142)"
   ]
  },
  {
   "cell_type": "code",
   "execution_count": 65,
   "id": "e9ca827f",
   "metadata": {},
   "outputs": [
    {
     "data": {
      "text/plain": [
       "146.0"
      ]
     },
     "execution_count": 65,
     "metadata": {},
     "output_type": "execute_result"
    }
   ],
   "source": [
    "df['horsepower'].median()"
   ]
  },
  {
   "cell_type": "code",
   "execution_count": 66,
   "id": "ac2daaee",
   "metadata": {},
   "outputs": [
    {
     "name": "stdout",
     "output_type": "stream",
     "text": [
      "      engine_displacement  num_cylinders  horsepower  vehicle_weight  \\\n",
      "8                     250            1.0       174.0     2714.219310   \n",
      "12                    320            5.0       145.0     2783.868974   \n",
      "14                    200            6.0       160.0     3582.687368   \n",
      "20                    150            3.0       197.0     2231.808142   \n",
      "21                    160            4.0       133.0     2659.431451   \n",
      "...                   ...            ...         ...             ...   \n",
      "9688                  260            4.0       142.0     3948.404625   \n",
      "9692                  180            3.0       188.0     3680.341381   \n",
      "9693                  280            2.0       148.0     2545.070139   \n",
      "9698                  180            1.0       131.0     3107.427820   \n",
      "9703                  270            3.0       140.0     2908.043477   \n",
      "\n",
      "      acceleration  model_year origin fuel_type         drivetrain  num_doors  \\\n",
      "8             10.3        2016   Asia    Diesel  Front-wheel drive       -1.0   \n",
      "12            15.1        2010   Asia    Diesel    All-wheel drive        1.0   \n",
      "14            14.9        2007   Asia    Diesel    All-wheel drive        0.0   \n",
      "20            18.7        2011   Asia  Gasoline  Front-wheel drive        1.0   \n",
      "21             NaN        2016   Asia  Gasoline  Front-wheel drive       -1.0   \n",
      "...            ...         ...    ...       ...                ...        ...   \n",
      "9688          15.5        2018   Asia    Diesel    All-wheel drive       -1.0   \n",
      "9692          18.0        2016   Asia  Gasoline  Front-wheel drive        1.0   \n",
      "9693          15.6        2012   Asia    Diesel    All-wheel drive        0.0   \n",
      "9698          13.2        2005   Asia  Gasoline  Front-wheel drive       -2.0   \n",
      "9703          14.7        2005   Asia    Diesel    All-wheel drive       -1.0   \n",
      "\n",
      "      fuel_efficiency_mpg  \n",
      "8               16.823554  \n",
      "12              16.175820  \n",
      "14              11.871091  \n",
      "20              18.889083  \n",
      "21              16.077730  \n",
      "...                   ...  \n",
      "9688            11.054830  \n",
      "9692            11.711653  \n",
      "9693            17.202782  \n",
      "9698            13.933716  \n",
      "9703            14.884467  \n",
      "\n",
      "[3247 rows x 11 columns]\n"
     ]
    }
   ],
   "source": [
    "asians = df[df.origin.eq('Asia')]\n",
    "print(asians)"
   ]
  },
  {
   "cell_type": "code",
   "execution_count": 98,
   "id": "b680579b",
   "metadata": {},
   "outputs": [
    {
     "name": "stdout",
     "output_type": "stream",
     "text": [
      "[[2714.21930965 2016.        ]\n",
      " [2783.86897424 2010.        ]\n",
      " [3582.68736772 2007.        ]\n",
      " [2231.8081416  2011.        ]\n",
      " [2659.43145076 2016.        ]\n",
      " [2844.22753389 2014.        ]\n",
      " [3761.99403819 2019.        ]]\n"
     ]
    }
   ],
   "source": [
    "X = np.array(asians.loc[:,['vehicle_weight','model_year']].head(7))\n",
    "print(X)"
   ]
  },
  {
   "cell_type": "code",
   "execution_count": 100,
   "id": "1f2007c0",
   "metadata": {},
   "outputs": [
    {
     "name": "stdout",
     "output_type": "stream",
     "text": [
      "[[62248334.33150762 41431216.5073268 ]\n",
      " [41431216.5073268  28373339.        ]]\n"
     ]
    }
   ],
   "source": [
    "XTX = X.T.dot(X)\n",
    "print(XTX)"
   ]
  },
  {
   "cell_type": "code",
   "execution_count": 111,
   "id": "34722b4d",
   "metadata": {},
   "outputs": [
    {
     "data": {
      "text/plain": [
       "1.562869705091685e-07"
      ]
     },
     "execution_count": 111,
     "metadata": {},
     "output_type": "execute_result"
    }
   ],
   "source": [
    "invertXTX = np.linalg.inv(XTX)\n",
    "invertXTX.sum()"
   ]
  },
  {
   "cell_type": "code",
   "execution_count": 102,
   "id": "02cd9c00",
   "metadata": {},
   "outputs": [],
   "source": [
    "y = np.array([1100, 1300, 800, 900, 1000, 1100, 1200])"
   ]
  },
  {
   "cell_type": "code",
   "execution_count": 112,
   "id": "d9ca8248",
   "metadata": {},
   "outputs": [
    {
     "name": "stdout",
     "output_type": "stream",
     "text": [
      "[[-1.31202622e-04 -8.63909858e-05  3.72634923e-04 -4.02726650e-04\n",
      "  -1.62513724e-04 -5.52342829e-05  4.65094049e-04]\n",
      " [ 2.62636846e-04  1.96990690e-04 -4.73392228e-04  6.58944477e-04\n",
      "   3.08357831e-04  1.51636137e-04 -6.07979633e-04]]\n"
     ]
    }
   ],
   "source": [
    "invXTXtranx = np.matmul(invertXTX, X.T)\n",
    "print(invXTXtranx)"
   ]
  },
  {
   "cell_type": "code",
   "execution_count": 116,
   "id": "105ad078",
   "metadata": {},
   "outputs": [
    {
     "name": "stdout",
     "output_type": "stream",
     "text": [
      "[0.01386421 0.5049067 ]\n"
     ]
    }
   ],
   "source": [
    "w = invXTXtranx.dot(y)\n",
    "print(w)"
   ]
  },
  {
   "cell_type": "code",
   "execution_count": 117,
   "id": "bb369a4e",
   "metadata": {},
   "outputs": [
    {
     "name": "stdout",
     "output_type": "stream",
     "text": [
      "0.5187709081074016\n"
     ]
    }
   ],
   "source": [
    "elementsum = sum(w)\n",
    "print(elementsum)"
   ]
  },
  {
   "cell_type": "code",
   "execution_count": null,
   "id": "0a1b39e8",
   "metadata": {},
   "outputs": [],
   "source": []
  }
 ],
 "metadata": {
  "kernelspec": {
   "display_name": "Python 3",
   "language": "python",
   "name": "python3"
  },
  "language_info": {
   "codemirror_mode": {
    "name": "ipython",
    "version": 3
   },
   "file_extension": ".py",
   "mimetype": "text/x-python",
   "name": "python",
   "nbconvert_exporter": "python",
   "pygments_lexer": "ipython3",
   "version": "3.12.2"
  }
 },
 "nbformat": 4,
 "nbformat_minor": 5
}
